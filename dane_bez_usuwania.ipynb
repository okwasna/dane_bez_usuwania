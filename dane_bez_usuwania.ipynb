{
  "nbformat": 4,
  "nbformat_minor": 0,
  "metadata": {
    "colab": {
      "provenance": [],
      "authorship_tag": "ABX9TyMvTS0zEgqe51dBPbfeeShv",
      "include_colab_link": true
    },
    "kernelspec": {
      "name": "python3",
      "display_name": "Python 3"
    },
    "language_info": {
      "name": "python"
    }
  },
  "cells": [
    {
      "cell_type": "markdown",
      "metadata": {
        "id": "view-in-github",
        "colab_type": "text"
      },
      "source": [
        "<a href=\"https://colab.research.google.com/github/okwasna/dane_bez_usuwania/blob/main/dane_bez_usuwania.ipynb\" target=\"_parent\"><img src=\"https://colab.research.google.com/assets/colab-badge.svg\" alt=\"Open In Colab\"/></a>"
      ]
    },
    {
      "cell_type": "code",
      "execution_count": 1,
      "metadata": {
        "colab": {
          "base_uri": "https://localhost:8080/"
        },
        "id": "Ihx14EemKbd6",
        "outputId": "d917d2d6-9a9d-4ee8-8c39-fcc169629393"
      },
      "outputs": [
        {
          "output_type": "stream",
          "name": "stdout",
          "text": [
            "Requirement already satisfied: pandas in /usr/local/lib/python3.10/dist-packages (2.2.2)\n",
            "Requirement already satisfied: numpy>=1.22.4 in /usr/local/lib/python3.10/dist-packages (from pandas) (1.26.4)\n",
            "Requirement already satisfied: python-dateutil>=2.8.2 in /usr/local/lib/python3.10/dist-packages (from pandas) (2.8.2)\n",
            "Requirement already satisfied: pytz>=2020.1 in /usr/local/lib/python3.10/dist-packages (from pandas) (2024.2)\n",
            "Requirement already satisfied: tzdata>=2022.7 in /usr/local/lib/python3.10/dist-packages (from pandas) (2024.2)\n",
            "Requirement already satisfied: six>=1.5 in /usr/local/lib/python3.10/dist-packages (from python-dateutil>=2.8.2->pandas) (1.16.0)\n"
          ]
        }
      ],
      "source": [
        "pip install pandas\n"
      ]
    },
    {
      "cell_type": "code",
      "source": [
        "import numpy as np\n",
        "import pandas as pd\n",
        "from sklearn.cluster import KMeans\n",
        "from sklearn.metrics import silhouette_samples, silhouette_score\n",
        "import seaborn as sns\n",
        "import matplotlib.pyplot as plt\n",
        "import pandas as pd\n",
        "import seaborn as sns\n",
        "import matplotlib.pyplot as plt\n",
        "from sklearn.cluster import KMeans, DBSCAN\n",
        "from sklearn.metrics import silhouette_samples, silhouette_score\n"
      ],
      "metadata": {
        "id": "m1wGwprWKgke"
      },
      "execution_count": 2,
      "outputs": []
    },
    {
      "cell_type": "code",
      "source": [
        "# Wczytanie danych z pliku Excel\n",
        "file_path = 'summary_htseq_norm2.xlsx'\n",
        "df = pd.read_excel(file_path, sheet_name='summary_htseq')\n",
        "# Wyświetlenie liczby wszystkich genów przed filtrowaniem\n",
        "print(f\"Liczba genów przed filtrowaniem: {len(df)}\")\n",
        "\n",
        "# Wyświetlenie liczby wszystkich genów przed filtrowaniem\n",
        "print(f\"Liczba genów przed filtrowaniem: {len(df)}\")\n"
      ],
      "metadata": {
        "colab": {
          "base_uri": "https://localhost:8080/"
        },
        "id": "3vGbEL7mKkfv",
        "outputId": "3402eebf-fc03-4cf8-b1f6-2e4128e16516"
      },
      "execution_count": 3,
      "outputs": [
        {
          "output_type": "stream",
          "name": "stdout",
          "text": [
            "Liczba genów przed filtrowaniem: 28677\n",
            "Liczba genów przed filtrowaniem: 28677\n"
          ]
        }
      ]
    },
    {
      "cell_type": "code",
      "source": [
        "\n",
        "import pandas as pd\n",
        "from sklearn.cluster import KMeans, AgglomerativeClustering, DBSCAN\n",
        "from sklearn.preprocessing import StandardScaler\n",
        "from sklearn.metrics import silhouette_score\n",
        "# Wybór kolumn zaczynających się od 'SRR7451446'\n",
        "# Zakładamy, że 'SRR7451446' to nazwa kolumny, a próbki znajdują się w kolumnach\n",
        "data_values = df.loc[:, 'SRR7451446':]  # Wybieramy wszystkie kolumny od 'SRR7451446'\n",
        "\n",
        "# Wyświetlenie liczby próbek (kolumn) i liczby genów (wierszy) branych pod uwagę\n",
        "print(f\"Liczba próbek (kolumn) branych pod uwagę: {data_values.shape[1]}\")\n",
        "print(f\"Liczba genów (wierszy) branych pod uwagę po wybraniu próbek: {data_values.shape[0]}\")\n",
        "\n",
        "# Normalizacja danych (wierszy - genów)\n",
        "scaler = StandardScaler()\n",
        "data_normalized = scaler.fit_transform(data_values)\n",
        "\n",
        "### 1. KMeans dla 40 klastrów\n",
        "n_clusters = 40\n",
        "kmeans = KMeans(n_clusters=n_clusters, random_state=42)\n",
        "kmeans.fit(data_normalized)\n",
        "\n",
        "# Dodanie kolumny z wynikami KMeans do ramki danych\n",
        "df.loc[:, f'Cluster_{n_clusters}'] = kmeans.labels_\n",
        "\n",
        "# Obliczenie wskaźnika Silhouette dla KMeans\n",
        "silhouette_avg = silhouette_score(data_normalized, kmeans.labels_)\n",
        "print(f\"Średni wskaźnik Silhouette dla KMeans (40 klastrów): {silhouette_avg:.4f}\")\n",
        "\n",
        "# Zliczenie ilości genów w każdym klastrze\n",
        "cluster_counts = df[f'Cluster_{n_clusters}'].value_counts()\n",
        "print(f\"Ilość genów w każdym klastrze dla KMeans (40 klastrów):\")\n",
        "print(cluster_counts)"
      ],
      "metadata": {
        "colab": {
          "base_uri": "https://localhost:8080/"
        },
        "id": "GSd4KqxZKvK1",
        "outputId": "cc6f3d24-80f9-4a64-e947-7ea35944f7c6"
      },
      "execution_count": 5,
      "outputs": [
        {
          "output_type": "stream",
          "name": "stdout",
          "text": [
            "Liczba próbek (kolumn) branych pod uwagę: 26\n",
            "Liczba genów (wierszy) branych pod uwagę po wybraniu próbek: 28677\n",
            "Średni wskaźnik Silhouette dla KMeans (40 klastrów): 0.7343\n",
            "Ilość genów w każdym klastrze dla KMeans (40 klastrów):\n",
            "Cluster_40\n",
            "14    22212\n",
            "0      3533\n",
            "33     1633\n",
            "20      626\n",
            "7       270\n",
            "23      151\n",
            "37       55\n",
            "29       53\n",
            "39       47\n",
            "17       33\n",
            "35        9\n",
            "16        7\n",
            "31        6\n",
            "5         4\n",
            "15        4\n",
            "24        3\n",
            "30        3\n",
            "25        3\n",
            "19        2\n",
            "34        2\n",
            "38        2\n",
            "2         1\n",
            "6         1\n",
            "36        1\n",
            "3         1\n",
            "9         1\n",
            "22        1\n",
            "11        1\n",
            "18        1\n",
            "32        1\n",
            "21        1\n",
            "28        1\n",
            "1         1\n",
            "4         1\n",
            "26        1\n",
            "10        1\n",
            "13        1\n",
            "12        1\n",
            "8         1\n",
            "27        1\n",
            "Name: count, dtype: int64\n"
          ]
        }
      ]
    },
    {
      "cell_type": "code",
      "source": [
        "\n",
        "### 2. Agglomerative Clustering dla 40 klastrów\n",
        "agg_clustering = AgglomerativeClustering(n_clusters=40)\n",
        "agg_labels = agg_clustering.fit_predict(data_normalized)\n",
        "\n",
        "# Dodanie kolumny z wynikami Agglomerative Clustering do ramki danych\n",
        "df.loc[:, 'Agg_Cluster_40'] = agg_labels\n",
        "\n",
        "# Obliczenie wskaźnika Silhouette dla Agglomerative Clustering\n",
        "agg_silhouette_avg = silhouette_score(data_normalized, agg_labels)\n",
        "print(f\"Średni wskaźnik Silhouette dla Agglomerative Clustering (40 klastrów): {agg_silhouette_avg:.4f}\")\n",
        "\n",
        "# Zliczenie ilości genów w każdym klastrze dla Agglomerative Clustering\n",
        "agg_cluster_counts = pd.Series(agg_labels).value_counts()\n",
        "print(f\"Ilość genów w każdym klastrze dla Agglomerative Clustering (40 klastrów):\")\n",
        "print(agg_cluster_counts)\n",
        "\n"
      ],
      "metadata": {
        "colab": {
          "base_uri": "https://localhost:8080/"
        },
        "id": "ljVer1j1Kz1T",
        "outputId": "3bf56d5f-3a64-4da5-db7f-0b2bee41eb03"
      },
      "execution_count": 6,
      "outputs": [
        {
          "output_type": "stream",
          "name": "stdout",
          "text": [
            "Średni wskaźnik Silhouette dla Agglomerative Clustering (40 klastrów): 0.7252\n",
            "Ilość genów w każdym klastrze dla Agglomerative Clustering (40 klastrów):\n",
            "12    21787\n",
            "22     4004\n",
            "1      1886\n",
            "7       387\n",
            "19      265\n",
            "5       156\n",
            "9        78\n",
            "4        26\n",
            "2        18\n",
            "8         9\n",
            "15        8\n",
            "18        6\n",
            "0         6\n",
            "6         5\n",
            "10        4\n",
            "13        3\n",
            "14        3\n",
            "17        3\n",
            "3         2\n",
            "39        1\n",
            "35        1\n",
            "16        1\n",
            "36        1\n",
            "23        1\n",
            "33        1\n",
            "28        1\n",
            "25        1\n",
            "27        1\n",
            "29        1\n",
            "20        1\n",
            "31        1\n",
            "26        1\n",
            "24        1\n",
            "30        1\n",
            "32        1\n",
            "38        1\n",
            "21        1\n",
            "37        1\n",
            "34        1\n",
            "11        1\n",
            "Name: count, dtype: int64\n"
          ]
        }
      ]
    },
    {
      "cell_type": "code",
      "source": [
        "### 3. DBSCAN\n",
        "# DBSCAN - nie musimy podawać liczby klastrów, ale parametry epsilon i min_samples\n",
        "dbscan_clustering = DBSCAN(eps=0.5, min_samples=10)\n",
        "dbscan_labels = dbscan_clustering.fit_predict(data_normalized)\n",
        "\n",
        "# Dodanie kolumny z wynikami DBSCAN do ramki danych\n",
        "df.loc[:, 'DBSCAN_Cluster'] = dbscan_labels\n",
        "\n",
        "# Zliczenie ilości genów w każdym klastrze dla DBSCAN\n",
        "dbscan_cluster_counts = pd.Series(dbscan_labels).value_counts()\n",
        "print(f\"Ilość genów w każdym klastrze dla DBSCAN:\")\n",
        "print(dbscan_cluster_counts)\n",
        "\n",
        "# Obliczenie wskaźnika Silhouette dla DBSCAN (jeśli są więcej niż 1 klaster i nie są outliery)\n",
        "if len(set(dbscan_labels)) > 1 and -1 not in dbscan_labels:\n",
        "    dbscan_silhouette_avg = silhouette_score(data_normalized, dbscan_labels)\n",
        "    print(f\"Średni wskaźnik Silhouette dla DBSCAN: {dbscan_silhouette_avg:.4f}\")\n",
        "else:\n",
        "    print(\"Nie można obliczyć wskaźnika Silhouette dla DBSCAN (za mało klastrów lub obecność outlierów).\")\n"
      ],
      "metadata": {
        "colab": {
          "base_uri": "https://localhost:8080/",
          "height": 207
        },
        "id": "K4z_98DUK2ei",
        "outputId": "30cc3ea7-cb2f-48f4-aaea-bf324fea5467"
      },
      "execution_count": 1,
      "outputs": [
        {
          "output_type": "error",
          "ename": "NameError",
          "evalue": "name 'DBSCAN' is not defined",
          "traceback": [
            "\u001b[0;31m---------------------------------------------------------------------------\u001b[0m",
            "\u001b[0;31mNameError\u001b[0m                                 Traceback (most recent call last)",
            "\u001b[0;32m<ipython-input-1-26e5b0c16a76>\u001b[0m in \u001b[0;36m<cell line: 3>\u001b[0;34m()\u001b[0m\n\u001b[1;32m      1\u001b[0m \u001b[0;31m### 3. DBSCAN\u001b[0m\u001b[0;34m\u001b[0m\u001b[0;34m\u001b[0m\u001b[0m\n\u001b[1;32m      2\u001b[0m \u001b[0;31m# DBSCAN - nie musimy podawać liczby klastrów, ale parametry epsilon i min_samples\u001b[0m\u001b[0;34m\u001b[0m\u001b[0;34m\u001b[0m\u001b[0m\n\u001b[0;32m----> 3\u001b[0;31m \u001b[0mdbscan_clustering\u001b[0m \u001b[0;34m=\u001b[0m \u001b[0mDBSCAN\u001b[0m\u001b[0;34m(\u001b[0m\u001b[0meps\u001b[0m\u001b[0;34m=\u001b[0m\u001b[0;36m0.5\u001b[0m\u001b[0;34m,\u001b[0m \u001b[0mmin_samples\u001b[0m\u001b[0;34m=\u001b[0m\u001b[0;36m10\u001b[0m\u001b[0;34m)\u001b[0m\u001b[0;34m\u001b[0m\u001b[0;34m\u001b[0m\u001b[0m\n\u001b[0m\u001b[1;32m      4\u001b[0m \u001b[0mdbscan_labels\u001b[0m \u001b[0;34m=\u001b[0m \u001b[0mdbscan_clustering\u001b[0m\u001b[0;34m.\u001b[0m\u001b[0mfit_predict\u001b[0m\u001b[0;34m(\u001b[0m\u001b[0mdata_normalized\u001b[0m\u001b[0;34m)\u001b[0m\u001b[0;34m\u001b[0m\u001b[0;34m\u001b[0m\u001b[0m\n\u001b[1;32m      5\u001b[0m \u001b[0;34m\u001b[0m\u001b[0m\n",
            "\u001b[0;31mNameError\u001b[0m: name 'DBSCAN' is not defined"
          ]
        }
      ]
    }
  ]
}